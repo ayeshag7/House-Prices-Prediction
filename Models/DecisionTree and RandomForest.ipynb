{
 "cells": [
  {
   "cell_type": "code",
   "execution_count": 1,
   "id": "b66486c4",
   "metadata": {},
   "outputs": [],
   "source": [
    "# Importing the required libraries.\n",
    "import pandas as pd\n",
    "import numpy as np\n",
    "import matplotlib.pyplot as plt\n",
    "import seaborn as sns\n",
    "import scipy.stats as stats\n",
    "from scipy.stats import norm\n",
    "from scipy.stats import skew, norm"
   ]
  },
  {
   "cell_type": "markdown",
   "id": "9fd75ae3",
   "metadata": {},
   "source": [
    "## Exporting the processed train and test datasets"
   ]
  },
  {
   "cell_type": "code",
   "execution_count": 2,
   "id": "08ae2d7a",
   "metadata": {},
   "outputs": [],
   "source": [
    "train = pd.read_csv(r\"E:\\processed_train.csv\")\n",
    "test = pd.read_csv(r\"E:\\processed_test.csv\")"
   ]
  },
  {
   "cell_type": "markdown",
   "id": "9ce04183",
   "metadata": {},
   "source": [
    "## Separating Target and Predictor Variables"
   ]
  },
  {
   "cell_type": "code",
   "execution_count": 3,
   "id": "1fa37bd4",
   "metadata": {},
   "outputs": [],
   "source": [
    "target = train[\"SalePrice\"]"
   ]
  },
  {
   "cell_type": "code",
   "execution_count": 4,
   "id": "3d212b1a",
   "metadata": {},
   "outputs": [
    {
     "data": {
      "text/plain": [
       "(1460,)"
      ]
     },
     "execution_count": 4,
     "metadata": {},
     "output_type": "execute_result"
    }
   ],
   "source": [
    "target.shape"
   ]
  },
  {
   "cell_type": "code",
   "execution_count": 5,
   "id": "47ee8650",
   "metadata": {},
   "outputs": [],
   "source": [
    "predictor = train.drop(columns=[\"SalePrice\"])"
   ]
  },
  {
   "cell_type": "code",
   "execution_count": 6,
   "id": "7d88a0c2",
   "metadata": {},
   "outputs": [
    {
     "data": {
      "text/plain": [
       "(1460, 295)"
      ]
     },
     "execution_count": 6,
     "metadata": {},
     "output_type": "execute_result"
    }
   ],
   "source": [
    "predictor.shape"
   ]
  },
  {
   "cell_type": "code",
   "execution_count": 7,
   "id": "f2b31671",
   "metadata": {},
   "outputs": [],
   "source": [
    "# Basic Regressors from Sklearn.\n",
    "from sklearn.svm import SVR\n",
    "from sklearn.naive_bayes import GaussianNB\n",
    "from sklearn.tree import DecisionTreeRegressor\n",
    "from sklearn.linear_model import ElasticNet\n",
    "from sklearn.linear_model import LinearRegression, BayesianRidge\n",
    "from sklearn.ensemble import GradientBoostingRegressor, RandomForestRegressor\n",
    "from sklearn.model_selection import RepeatedKFold\n",
    "from sklearn.model_selection import KFold, cross_val_score\n",
    "from sklearn.model_selection import GridSearchCV, RandomizedSearchCV\n",
    "from sklearn.model_selection import train_test_split\n",
    "from sklearn.metrics import mean_squared_error, mean_absolute_error, mean_squared_log_error\n",
    "from sklearn.metrics import r2_score"
   ]
  },
  {
   "cell_type": "code",
   "execution_count": 8,
   "id": "07583cac",
   "metadata": {},
   "outputs": [],
   "source": [
    "# Advanced Regressors.\n",
    "import shap\n",
    "from xgboost import XGBRegressor\n",
    "from catboost import Pool\n",
    "from catboost import CatBoostRegressor\n",
    "from lightgbm import LGBMRegressor\n",
    "from mlxtend.regressor import StackingRegressor"
   ]
  },
  {
   "cell_type": "code",
   "execution_count": 9,
   "id": "6e0fa79c",
   "metadata": {},
   "outputs": [],
   "source": [
    "import time"
   ]
  },
  {
   "cell_type": "markdown",
   "id": "8017ba9f",
   "metadata": {},
   "source": [
    "## Creating RMSE Metric and Setting K Folds for Cross Validation"
   ]
  },
  {
   "cell_type": "raw",
   "id": "7d7e2afd",
   "metadata": {},
   "source": [
    "SE returned by sklearn.cross_validation.cross_val_score is always a negative however the actual MSE is simply the \n",
    "positive version of the number being returned.\n",
    "\n",
    "This can be fixed by changing scoring method to \" neg_mean_squared_error \" as we'll do below."
   ]
  },
  {
   "cell_type": "code",
   "execution_count": 10,
   "id": "a4720800",
   "metadata": {},
   "outputs": [],
   "source": [
    "def cv_rmse(model):\n",
    "    return np.sqrt(-cross_val_score(model, predictor, target, scoring=\"neg_mean_squared_error\", cv=kf))"
   ]
  },
  {
   "cell_type": "raw",
   "id": "f03e70e1",
   "metadata": {},
   "source": [
    "We'll set the value for k to 10. \n",
    "\n",
    "In applied machine learning, performing k-fold cross-validation using k=5 or k=10 is very common as these values \n",
    "generally result in a model skill estimate with low bias and a modest variance."
   ]
  },
  {
   "cell_type": "code",
   "execution_count": 11,
   "id": "fa3d4f4c",
   "metadata": {},
   "outputs": [],
   "source": [
    "kf = KFold(n_splits=10, random_state=42, shuffle=True)\n",
    "cv_scores, cv_std = [], []"
   ]
  },
  {
   "cell_type": "markdown",
   "id": "4a569b56",
   "metadata": {},
   "source": [
    "## Decision Tree Regressor"
   ]
  },
  {
   "cell_type": "code",
   "execution_count": 12,
   "id": "e4b158ce",
   "metadata": {},
   "outputs": [
    {
     "name": "stdout",
     "output_type": "stream",
     "text": [
      "Mean Squared Error = 6.483788262090507e-33\n",
      "\n",
      "RMSE score: [0.19267243 0.18844557 0.14573209 0.20168739 0.21379976 0.23927175\n",
      " 0.23008023 0.16486419 0.22167906 0.17341299]\n",
      "\n",
      "Cross Validation Score: 0.19963070452052542\n",
      "\n",
      "R2 Score: 1.0\n"
     ]
    }
   ],
   "source": [
    "dt_model = DecisionTreeRegressor()  \n",
    "dt_model.fit(predictor, target)\n",
    "target_pred = dt_model.predict(predictor)\n",
    "MSE_train = np.mean((target_pred - target)**2)\n",
    "\n",
    "print(f\"Mean Squared Error = {MSE_train}\\n\")\n",
    "print(f\"RMSE score: {cv_rmse(dt_model)}\\n\")\n",
    "print(f\"Cross Validation Score: {cv_rmse(dt_model).mean()}\\n\")\n",
    "print(f\"R2 Score: {r2_score(target, target_pred)}\")"
   ]
  },
  {
   "cell_type": "raw",
   "id": "907f11f0",
   "metadata": {},
   "source": [
    "It looks like this model overfitted the training dataset."
   ]
  },
  {
   "cell_type": "code",
   "execution_count": 13,
   "id": "fc5ff07b",
   "metadata": {},
   "outputs": [],
   "source": [
    "# Visualizing the model."
   ]
  },
  {
   "cell_type": "code",
   "execution_count": 14,
   "id": "a5839df2",
   "metadata": {},
   "outputs": [
    {
     "data": {
      "text/plain": [
       "Text(0.5, 1.0, 'Prices vs. Predicted Prices')"
      ]
     },
     "execution_count": 14,
     "metadata": {},
     "output_type": "execute_result"
    },
    {
     "data": {
      "image/png": "[encoded data removed]",
      "text/plain": [
       "<Figure size 720x432 with 1 Axes>"
      ]
     },
     "metadata": {},
     "output_type": "display_data"
    }
   ],
   "source": [
    "sns.set(font_scale=1.2)\n",
    "plt.figure(figsize=(10,6))\n",
    "sns.scatterplot(x=target, y=target_pred)\n",
    "plt.xlabel(\"Prices\")\n",
    "plt.ylabel(\"Predicted prices\")\n",
    "plt.title(\"Prices vs. Predicted Prices\")"
   ]
  },
  {
   "cell_type": "code",
   "execution_count": 15,
   "id": "893809b2",
   "metadata": {},
   "outputs": [
    {
     "data": {
      "text/plain": [
       "Text(0, 0.5, 'Residuals')"
      ]
     },
     "execution_count": 15,
     "metadata": {},
     "output_type": "execute_result"
    },
    {
     "data": {
      "image/png": "[encoded data removed]",
      "text/plain": [
       "<Figure size 720x432 with 1 Axes>"
      ]
     },
     "metadata": {},
     "output_type": "display_data"
    }
   ],
   "source": [
    "plt.figure(figsize=(10,6))\n",
    "sns.scatterplot(x=target_pred, y=target_pred - target)\n",
    "plt.title(\"Residual Plot\")\n",
    "plt.xlabel(\"Predicted values\")\n",
    "plt.ylabel(\"Residuals\")"
   ]
  },
  {
   "cell_type": "raw",
   "id": "aec95679",
   "metadata": {},
   "source": [
    "In a residual plot, if the data points are randomly distributed around the x-axis then it means that the variance \n",
    "in data is constant and the model is probabaly a good fit."
   ]
  },
  {
   "cell_type": "markdown",
   "id": "129243b2",
   "metadata": {},
   "source": [
    "## Random Forest Regressor"
   ]
  },
  {
   "cell_type": "code",
   "execution_count": 16,
   "id": "dfb90775",
   "metadata": {},
   "outputs": [],
   "source": [
    "# Hyperparameters tuning."
   ]
  },
  {
   "cell_type": "code",
   "execution_count": null,
   "id": "57586357",
   "metadata": {},
   "outputs": [],
   "source": [
    "t0 = time.time()\n",
    "\n",
    "rfr = RandomForestRegressor()\n",
    "\n",
    "rfr_params={'n_estimators':np.arange(200,2200,200),\n",
    "          'max_features':['auto','sqrt'],\n",
    "          'max_depth':np.arange(10,110,10),\n",
    "          'min_samples_split':range(1,11),\n",
    "          'min_samples_leaf':[1,2,4],\n",
    "          'bootstrap':[True,False]}\n",
    "\n",
    "rfr_model = GridSearchCV(rfr,\n",
    "                         param_grid=rfr_params,\n",
    "                         cv=3,\n",
    "                         n_jobs=-1)\n",
    "\n",
    "rfr_model.fit(predictor,target)\n",
    "\n",
    "t1 = time.time() - t0\n",
    "print('Time Passed:',t1,'s')"
   ]
  },
  {
   "cell_type": "code",
   "execution_count": 17,
   "id": "7cce8d02",
   "metadata": {},
   "outputs": [],
   "source": [
    "# Optmizimg the model and fitting it again."
   ]
  },
  {
   "cell_type": "code",
   "execution_count": null,
   "id": "4a713364",
   "metadata": {},
   "outputs": [],
   "source": [
    "rfr_opt = RandomForestRegressor(bootstrap=False,\n",
    "                              max_depth=100,\n",
    "                              max_features='sqrt',\n",
    "                              min_samples_leaf=1,\n",
    "                              min_samples_split=3,\n",
    "                              n_estimators=600,\n",
    "                              n_jobs=-1)\n",
    "\n",
    "rfr_opt.fit(predictor,target)\n",
    "score = cv_rmse(rfr_opt)"
   ]
  },
  {
   "cell_type": "code",
   "execution_count": 18,
   "id": "b0df9607",
   "metadata": {},
   "outputs": [],
   "source": [
    "# Evaluating model's performance."
   ]
  },
  {
   "cell_type": "code",
   "execution_count": null,
   "id": "d050adc6",
   "metadata": {},
   "outputs": [],
   "source": [
    "target_pred = rfr_opt.predict(predictor)"
   ]
  },
  {
   "cell_type": "code",
   "execution_count": null,
   "id": "682ca8b6",
   "metadata": {},
   "outputs": [],
   "source": [
    "MSE = np.mean((target_pred - target)**2)\n",
    "\n",
    "print(f\"RMSE score: {score}\\n\")\n",
    "print(f\"Cross Validation Score: {score.mean()}\\n\")\n",
    "print(f\"Mean Squared Error = {MSE}\\n\")\n",
    "print(f\"R2 Score: {r2_score(target, target_pred)}\")"
   ]
  },
  {
   "cell_type": "code",
   "execution_count": 19,
   "id": "33d8b17b",
   "metadata": {},
   "outputs": [],
   "source": [
    "# Visualizing the model."
   ]
  },
  {
   "cell_type": "code",
   "execution_count": null,
   "id": "6df7a423",
   "metadata": {},
   "outputs": [],
   "source": [
    "sns.set(font_scale=1.2)\n",
    "plt.figure(figsize=(10,6))\n",
    "sns.scatterplot(x=target, y=target_pred, color=\"r\")\n",
    "plt.xlabel(\"Prices\")\n",
    "plt.ylabel(\"Predicted prices\")\n",
    "plt.title(\"Prices vs. Predicted Prices\")"
   ]
  },
  {
   "cell_type": "code",
   "execution_count": null,
   "id": "5f0da870",
   "metadata": {},
   "outputs": [],
   "source": [
    "plt.figure(figsize=(10,6))\n",
    "sns.scatterplot(x=target_pred, y=target_pred - target, color=\"r\")\n",
    "plt.title(\"Residual Plot\")\n",
    "plt.xlabel(\"Predicted values\")\n",
    "plt.ylabel(\"Residuals\")"
   ]
  }
 ],
 "metadata": {
  "kernelspec": {
   "display_name": "Python 3 (ipykernel)",
   "language": "python",
   "name": "python3"
  },
  "language_info": {
   "codemirror_mode": {
    "name": "ipython",
    "version": 3
   },
   "file_extension": ".py",
   "mimetype": "text/x-python",
   "name": "python",
   "nbconvert_exporter": "python",
   "pygments_lexer": "ipython3",
   "version": "3.9.7"
  }
 },
 "nbformat": 4,
 "nbformat_minor": 5
}
