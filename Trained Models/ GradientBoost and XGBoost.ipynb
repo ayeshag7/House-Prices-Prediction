{
 "cells": [
  {
   "cell_type": "code",
   "execution_count": 1,
   "id": "eae702ac",
   "metadata": {},
   "outputs": [],
   "source": [
    "# Importing the required libraries.\n",
    "import pandas as pd\n",
    "import numpy as np\n",
    "import matplotlib.pyplot as plt\n",
    "import seaborn as sns\n",
    "import scipy.stats as stats\n",
    "from scipy.stats import norm\n",
    "from scipy.stats import skew, norm"
   ]
  },
  {
   "cell_type": "markdown",
   "id": "9601b889",
   "metadata": {},
   "source": [
    "## Exporting the processed train and test datasets"
   ]
  },
  {
   "cell_type": "code",
   "execution_count": 2,
   "id": "91dc95d7",
   "metadata": {},
   "outputs": [],
   "source": [
    "train = pd.read_csv(r\"E:\\processed_train.csv\")\n",
    "test = pd.read_csv(r\"E:\\processed_test.csv\")"
   ]
  },
  {
   "cell_type": "markdown",
   "id": "99260b44",
   "metadata": {},
   "source": [
    "## Separating Target and Predictor Variables"
   ]
  },
  {
   "cell_type": "code",
   "execution_count": 3,
   "id": "2fcb9ad9",
   "metadata": {},
   "outputs": [],
   "source": [
    "target = train[\"SalePrice\"]"
   ]
  },
  {
   "cell_type": "code",
   "execution_count": 4,
   "id": "b9afcfc4",
   "metadata": {},
   "outputs": [
    {
     "data": {
      "text/plain": [
       "(1460,)"
      ]
     },
     "execution_count": 4,
     "metadata": {},
     "output_type": "execute_result"
    }
   ],
   "source": [
    "target.shape"
   ]
  },
  {
   "cell_type": "code",
   "execution_count": 5,
   "id": "d5ff99ec",
   "metadata": {},
   "outputs": [],
   "source": [
    "predictor = train.drop(columns=[\"SalePrice\"])"
   ]
  },
  {
   "cell_type": "code",
   "execution_count": 6,
   "id": "eb922342",
   "metadata": {},
   "outputs": [
    {
     "data": {
      "text/plain": [
       "(1460, 295)"
      ]
     },
     "execution_count": 6,
     "metadata": {},
     "output_type": "execute_result"
    }
   ],
   "source": [
    "predictor.shape"
   ]
  },
  {
   "cell_type": "code",
   "execution_count": 7,
   "id": "c5826c02",
   "metadata": {},
   "outputs": [],
   "source": [
    "# Basic Regressors from Sklearn.\n",
    "from sklearn.svm import SVR\n",
    "from sklearn.naive_bayes import GaussianNB\n",
    "from sklearn.tree import DecisionTreeRegressor\n",
    "from sklearn.linear_model import ElasticNet\n",
    "from sklearn.linear_model import LinearRegression, BayesianRidge\n",
    "from sklearn.ensemble import GradientBoostingRegressor, RandomForestRegressor\n",
    "from sklearn.model_selection import RepeatedKFold\n",
    "from sklearn.model_selection import KFold, cross_val_score\n",
    "from sklearn.model_selection import GridSearchCV, RandomizedSearchCV\n",
    "from sklearn.model_selection import train_test_split\n",
    "from sklearn.metrics import mean_squared_error, mean_absolute_error, mean_squared_log_error\n",
    "from sklearn.metrics import r2_score"
   ]
  },
  {
   "cell_type": "code",
   "execution_count": 8,
   "id": "76d7d79d",
   "metadata": {},
   "outputs": [],
   "source": [
    "# Advanced Regressors.\n",
    "import shap\n",
    "from xgboost import XGBRegressor\n",
    "from catboost import Pool\n",
    "from catboost import CatBoostRegressor\n",
    "from lightgbm import LGBMRegressor\n",
    "from mlxtend.regressor import StackingRegressor"
   ]
  },
  {
   "cell_type": "code",
   "execution_count": 9,
   "id": "cf5e5b14",
   "metadata": {},
   "outputs": [],
   "source": [
    "import time"
   ]
  },
  {
   "cell_type": "markdown",
   "id": "5036844b",
   "metadata": {},
   "source": [
    "## Creating RMSE Metric and Setting K Folds for Cross Validation"
   ]
  },
  {
   "cell_type": "raw",
   "id": "35dca62c",
   "metadata": {},
   "source": [
    "SE returned by sklearn.cross_validation.cross_val_score is always a negative however the actual MSE is simply the \n",
    "positive version of the number being returned.\n",
    "\n",
    "This can be fixed by changing scoring method to \" neg_mean_squared_error \" as we'll do below."
   ]
  },
  {
   "cell_type": "code",
   "execution_count": 10,
   "id": "335c253d",
   "metadata": {},
   "outputs": [],
   "source": [
    "def cv_rmse(model):\n",
    "    return np.sqrt(-cross_val_score(model, predictor, target, scoring=\"neg_mean_squared_error\", cv=kf))"
   ]
  },
  {
   "cell_type": "raw",
   "id": "89d0f4ba",
   "metadata": {},
   "source": [
    "We'll set the value for k to 10. \n",
    "\n",
    "In applied machine learning, performing k-fold cross-validation using k=5 or k=10 is very common as these values \n",
    "generally result in a model skill estimate with low bias and a modest variance."
   ]
  },
  {
   "cell_type": "code",
   "execution_count": 11,
   "id": "1a64d082",
   "metadata": {},
   "outputs": [],
   "source": [
    "kf = KFold(n_splits=10, random_state=42, shuffle=True)\n",
    "cv_scores, cv_std = [], []"
   ]
  },
  {
   "cell_type": "markdown",
   "id": "7c1975ae",
   "metadata": {},
   "source": [
    "## Gradient Boosting Regressor"
   ]
  },
  {
   "cell_type": "code",
   "execution_count": 12,
   "id": "d228ed6e",
   "metadata": {},
   "outputs": [],
   "source": [
    "# Hyperparameter Tuning"
   ]
  },
  {
   "cell_type": "code",
   "execution_count": null,
   "id": "8ab1bc74",
   "metadata": {},
   "outputs": [],
   "source": [
    "t0 = time.time()\n",
    "\n",
    "gbr = GradientBoostingRegressor()\n",
    "\n",
    "gbr_params = {'n_estimators':[100,500,1000,5000],\n",
    "          'max_depth':[3,4,5,6,7],\n",
    "          'learning_rate':[1,0.1,0.01],\n",
    "          'min_samples_split':[0.1,0.5,1],\n",
    "          'min_samples_leaf':[0.1,0.25,0.5]}\n",
    "\n",
    "gbr_model = GridSearchCV(gbr,\n",
    "                         param_grid=gbr_params,\n",
    "                         cv=3,\n",
    "                         n_jobs=-1)\n",
    "\n",
    "gbr_model.fit(predictor,target)\n",
    "\n",
    "t1 = time.time() - t0\n",
    "print('Elapsed time:',t1,'s')"
   ]
  },
  {
   "cell_type": "code",
   "execution_count": null,
   "id": "072c7930",
   "metadata": {},
   "outputs": [],
   "source": [
    "print('Results from Grid Search:')\n",
    "print(\"\\nBest score across all searched params:\\n\",gbr_model.best_score_)\n",
    "print(\"\\nBest parameters across all searched params:\\n\",gbr_model.best_params_)"
   ]
  },
  {
   "cell_type": "code",
   "execution_count": 13,
   "id": "ed2a7e8c",
   "metadata": {},
   "outputs": [],
   "source": [
    "# Optimizing the model and fitting again."
   ]
  },
  {
   "cell_type": "code",
   "execution_count": null,
   "id": "b55553bc",
   "metadata": {},
   "outputs": [],
   "source": [
    "gbr_opt = GradientBoostingRegressor(n_estimators=5000,\n",
    "                                  max_depth=3,\n",
    "                                  learning_rate=0.01,\n",
    "                                  min_samples_split=0.1,\n",
    "                                  min_samples_leaf=0.1)\n",
    "\n",
    "gbr_opt.fit(predictor,target)"
   ]
  },
  {
   "cell_type": "code",
   "execution_count": 14,
   "id": "c0e0f01c",
   "metadata": {},
   "outputs": [],
   "source": [
    "# Evaluating model's performance."
   ]
  },
  {
   "cell_type": "code",
   "execution_count": null,
   "id": "6dd8f7ef",
   "metadata": {},
   "outputs": [],
   "source": [
    "target_pred = gbr_opt.predict(predictor)"
   ]
  },
  {
   "cell_type": "code",
   "execution_count": null,
   "id": "3b5574c7",
   "metadata": {},
   "outputs": [],
   "source": [
    "MSE = np.mean((target_pred - target)**2)\n",
    "\n",
    "print(f\"Mean Squared Error = {MSE}\\n\")\n",
    "print(f\"R2 Score: {r2_score(target, target_pred)}\")"
   ]
  },
  {
   "cell_type": "code",
   "execution_count": 15,
   "id": "65e378cd",
   "metadata": {},
   "outputs": [],
   "source": [
    "# Visualizing the model."
   ]
  },
  {
   "cell_type": "code",
   "execution_count": null,
   "id": "86d1f955",
   "metadata": {},
   "outputs": [],
   "source": [
    "sns.set(font_scale=1.2)\n",
    "plt.figure(figsize=(10,6))\n",
    "sns.scatterplot(x=target, y=target_pred, color=\"r\")\n",
    "plt.xlabel(\"Prices\")\n",
    "plt.ylabel(\"Predicted prices\")\n",
    "plt.title(\"Prices vs. Predicted Prices\")"
   ]
  },
  {
   "cell_type": "code",
   "execution_count": null,
   "id": "605416a8",
   "metadata": {},
   "outputs": [],
   "source": [
    "plt.figure(figsize=(10,6))\n",
    "sns.scatterplot(x=target_pred, y=target_pred - target, color=\"r\")\n",
    "plt.title(\"Residual Plot\")\n",
    "plt.xlabel(\"Predicted values\")\n",
    "plt.ylabel(\"Residuals\")"
   ]
  },
  {
   "cell_type": "markdown",
   "id": "712df76f",
   "metadata": {},
   "source": [
    "## XGBoost Regressor"
   ]
  },
  {
   "cell_type": "code",
   "execution_count": 17,
   "id": "d9a272e9",
   "metadata": {},
   "outputs": [],
   "source": [
    "# Hyperparameter Tuning"
   ]
  },
  {
   "cell_type": "code",
   "execution_count": null,
   "id": "a666d772",
   "metadata": {},
   "outputs": [],
   "source": [
    "xgb = XGBRegressor(objective='reg:squarederror')\n",
    "\n",
    "xgb_params = {\"n_estimators\": [500, 750, 1000, 1500, 2000], \n",
    "             \"learning_rate\": [0.01, 0.02, 0.05], \n",
    "             \"max_depth\": [6, 8], \n",
    "             \"subsample\": [0.3, 0.5, 0.7]}\n",
    "\n",
    "xgb_model = GridSearchCV(XGBRegressor(xgb, xgb_params)\n",
    "                    \n",
    "xgb_model.fit(predictor, target)"
   ]
  },
  {
   "cell_type": "code",
   "execution_count": null,
   "id": "55f8ee98",
   "metadata": {},
   "outputs": [],
   "source": [
    "print('Results from Grid Search:')\n",
    "print(\"\\nBest score across all searched params:\\n\",xgb_model.best_score_)\n",
    "print(\"\\nBest parameters across all searched params:\\n\",xgb_model.best_params_)"
   ]
  },
  {
   "cell_type": "code",
   "execution_count": 18,
   "id": "ed4fc75d",
   "metadata": {},
   "outputs": [],
   "source": [
    "# Fitting the model again."
   ]
  },
  {
   "cell_type": "code",
   "execution_count": null,
   "id": "b182ecc7",
   "metadata": {},
   "outputs": [],
   "source": [
    "model = XGBRegressor(n_estimators=1500, learning_rate=0.02, max_depth=6, subsample=0.7)\n",
    "model.fit(predictor, target)"
   ]
  },
  {
   "cell_type": "code",
   "execution_count": 19,
   "id": "780034d8",
   "metadata": {},
   "outputs": [],
   "source": [
    "# Evaluating model's performance."
   ]
  },
  {
   "cell_type": "code",
   "execution_count": null,
   "id": "efcf89a7",
   "metadata": {},
   "outputs": [],
   "source": [
    "target_pred = model.predict(predictor)"
   ]
  },
  {
   "cell_type": "code",
   "execution_count": null,
   "id": "4c95ceb7",
   "metadata": {},
   "outputs": [],
   "source": [
    "MSE = np.mean((target_pred - target)**2)\n",
    "\n",
    "print(f\"Mean Squared Error = {MSE}\\n\")\n",
    "print(f\"R2 Score: {r2_score(target, target_pred)}\")"
   ]
  },
  {
   "cell_type": "code",
   "execution_count": 20,
   "id": "945ef397",
   "metadata": {},
   "outputs": [],
   "source": [
    "# Visualizing the model."
   ]
  },
  {
   "cell_type": "code",
   "execution_count": null,
   "id": "cf878470",
   "metadata": {},
   "outputs": [],
   "source": [
    "sns.set(font_scale=1.2)\n",
    "plt.figure(figsize=(10,6))\n",
    "sns.scatterplot(x=target, y=target_pred, color=\"r\")\n",
    "plt.xlabel(\"Prices\")\n",
    "plt.ylabel(\"Predicted prices\")\n",
    "plt.title(\"Prices vs. Predicted Prices\")"
   ]
  },
  {
   "cell_type": "code",
   "execution_count": null,
   "id": "22e0e028",
   "metadata": {},
   "outputs": [],
   "source": [
    "plt.figure(figsize=(10,6))\n",
    "sns.scatterplot(x=target_pred, y=target_pred - target, color=\"r\")\n",
    "plt.title(\"Residual Plot\")\n",
    "plt.xlabel(\"Predicted values\")\n",
    "plt.ylabel(\"Residuals\")"
   ]
  }
 ],
 "metadata": {
  "kernelspec": {
   "display_name": "Python 3 (ipykernel)",
   "language": "python",
   "name": "python3"
  },
  "language_info": {
   "codemirror_mode": {
    "name": "ipython",
    "version": 3
   },
   "file_extension": ".py",
   "mimetype": "text/x-python",
   "name": "python",
   "nbconvert_exporter": "python",
   "pygments_lexer": "ipython3",
   "version": "3.9.7"
  }
 },
 "nbformat": 4,
 "nbformat_minor": 5
}
